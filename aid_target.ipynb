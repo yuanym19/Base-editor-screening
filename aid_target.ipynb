{
 "cells": [
  {
   "cell_type": "code",
   "execution_count": 1,
   "metadata": {},
   "outputs": [],
   "source": [
    "import pandas as pd\n",
    "from ast import literal_eval"
   ]
  },
  {
   "cell_type": "code",
   "execution_count": 2,
   "metadata": {},
   "outputs": [],
   "source": [
    "data_noncoding = pd.read_csv('gene_info_noncoding.csv', index_col=0)\n",
    "data_coding = pd.read_csv('gene_info_coding.csv', index_col=0)"
   ]
  },
  {
   "cell_type": "code",
   "execution_count": 3,
   "metadata": {
    "scrolled": false
   },
   "outputs": [],
   "source": [
    "data_noncoding['guide_pos'] = [literal_eval(i) for i in data_noncoding['guide_pos']]\n",
    "data_noncoding['guide_seq'] = [literal_eval(i) for i in data_noncoding['guide_seq']]\n",
    "data_coding['guide_pos'] = [literal_eval(i) for i in data_coding['guide_pos']]\n",
    "data_coding['guide_seq'] = [literal_eval(i) for i in data_coding['guide_seq']]"
   ]
  },
  {
   "cell_type": "code",
   "execution_count": 4,
   "metadata": {},
   "outputs": [],
   "source": [
    "data_noncoding_aid = data_noncoding.copy()\n",
    "data_coding_aid = data_coding.copy()\n",
    "data_noncoding_aid['guide_pos'] = [[] for i in data_noncoding_aid['guide_pos']]\n",
    "data_noncoding_aid['guide_seq'] = [[] for i in data_noncoding_aid['guide_seq']]\n",
    "data_noncoding_aid['guide_num'] = [0 for i in data_noncoding_aid['guide_seq']]\n",
    "data_coding_aid['guide_pos'] = [[] for i in data_coding_aid['guide_pos']]\n",
    "data_coding_aid['guide_seq'] = [[] for i in data_coding_aid['guide_seq']]\n",
    "data_coding_aid['guide_num'] = [0 for i in data_coding_aid['guide_seq']]"
   ]
  },
  {
   "cell_type": "code",
   "execution_count": 5,
   "metadata": {},
   "outputs": [],
   "source": [
    "for i in data_noncoding.index:\n",
    "    if data_noncoding.loc[i, 'guide_num'] > 0:\n",
    "        for j in range(int(data_noncoding.loc[i, 'guide_num'])):\n",
    "            if 'C' in data_noncoding.loc[i,'guide_seq'][j][1:6]:\n",
    "                data_noncoding_aid.loc[i, 'guide_seq'].append(data_noncoding.loc[i,'guide_seq'][j])\n",
    "                data_noncoding_aid.loc[i, 'guide_num'] += 1\n",
    "                data_noncoding_aid.loc[i, 'guide_pos'].append(data_noncoding.loc[i,'guide_pos'][j])\n",
    "            else:\n",
    "                continue"
   ]
  },
  {
   "cell_type": "code",
   "execution_count": 6,
   "metadata": {},
   "outputs": [],
   "source": [
    "for i in data_coding.index:\n",
    "    if data_coding.loc[i, 'guide_num'] > 0:\n",
    "        for j in range(int(data_coding.loc[i, 'guide_num'])):\n",
    "            if 'C' in data_coding.loc[i,'guide_seq'][j][1:6]:\n",
    "                data_coding_aid.loc[i, 'guide_seq'].append(data_coding.loc[i,'guide_seq'][j])\n",
    "                data_coding_aid.loc[i, 'guide_num'] += 1\n",
    "                data_coding_aid.loc[i, 'guide_pos'].append(data_coding.loc[i,'guide_pos'][j])\n",
    "            else:\n",
    "                continue"
   ]
  },
  {
   "cell_type": "code",
   "execution_count": 7,
   "metadata": {},
   "outputs": [],
   "source": [
    "data_noncoding_aid.to_excel('data_noncoding_aid.xlsx',index=1)\n",
    "data_coding_aid.to_excel('data_coding_aid.xlsx',index=1)\n",
    "data_noncoding_aid.to_pickle('data_noncoding_aid.pickle')\n",
    "data_coding_aid.to_pickle('data_coding_aid.pickle')"
   ]
  },
  {
   "cell_type": "code",
   "execution_count": 8,
   "metadata": {},
   "outputs": [],
   "source": [
    "seq = []\n",
    "for i in data_noncoding_aid.index:\n",
    "    seq.extend(data_noncoding_aid.loc[i, 'guide_seq'])\n",
    "for i in data_coding_aid.index:\n",
    "    seq.extend(data_coding_aid.loc[i, 'guide_seq'])"
   ]
  },
  {
   "cell_type": "code",
   "execution_count": 9,
   "metadata": {},
   "outputs": [
    {
     "data": {
      "text/plain": [
       "273108"
      ]
     },
     "execution_count": 9,
     "metadata": {},
     "output_type": "execute_result"
    }
   ],
   "source": [
    "len(set(seq))"
   ]
  },
  {
   "cell_type": "code",
   "execution_count": null,
   "metadata": {},
   "outputs": [],
   "source": []
  }
 ],
 "metadata": {
  "kernelspec": {
   "display_name": "Python 3",
   "language": "python",
   "name": "python3"
  },
  "language_info": {
   "codemirror_mode": {
    "name": "ipython",
    "version": 3
   },
   "file_extension": ".py",
   "mimetype": "text/x-python",
   "name": "python",
   "nbconvert_exporter": "python",
   "pygments_lexer": "ipython3",
   "version": "3.8.5"
  }
 },
 "nbformat": 4,
 "nbformat_minor": 2
}
